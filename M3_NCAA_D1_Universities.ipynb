{
 "cells": [
  {
   "cell_type": "markdown",
   "id": "phduzTzk4vDo",
   "metadata": {
    "id": "phduzTzk4vDo"
   },
   "source": [
    "## Introduction\n",
    "\n",
    "You've just learned how the dictionary data type uses key and value pairs to store information. And you've learned how you can use conditional logic to select, filter, or do different things to information based on their values. In this Milestone, you'll practice your skills with these topics by working with data from the NCAA! You'll answer some questions regarding universities with Division I American Football teams, their conferences, and enrollments.\n",
    "\n",
    "Ready, set, hut! \n",
    "\n",
    "![](https://media.giphy.com/media/v1.Y2lkPTc5MGI3NjExZmY4N2IzNjAyMGQzNTQ4MDNlYmU1NDRlOTU0Y2Q1OWY4NzRjMTM5YyZjdD1n/A04VZmuyrLPYft1UyJ/giphy.gif)\n",
    "\n",
    "To import this data, remember to run the following cell."
   ]
  },
  {
   "cell_type": "code",
   "execution_count": 1,
   "id": "6FYTyHC94vDq",
   "metadata": {
    "id": "6FYTyHC94vDq"
   },
   "outputs": [],
   "source": [
    "# load the data\n",
    "import sys\n",
    "sys.path.append('../files')\n",
    "\n",
    "from ncaa_fbs import nickname, enrollment"
   ]
  },
  {
   "cell_type": "markdown",
   "id": "jXLTucfz5ajG",
   "metadata": {
    "id": "jXLTucfz5ajG"
   },
   "source": [
    "Instead of printing each dictionary out, below we will provide code snippets of each dicitonary to give you an understanding of what they contain. If you decide you want to view these dictionaries yourself, just open up a new code cell and `print` the dictionaries to the screen!\n",
    "\n",
    "\n",
    "### Nicknames\n",
    "\n",
    "The `nickname` dictionary contains the name of the university (as keys) followed by its nickname (as values).\n",
    "\n",
    "```python\n",
    "{'Air Force': 'Falcons',\n",
    " 'Akron': 'Zips',\n",
    " 'Alabama': 'Crimson Tide',\n",
    " 'Appalachian State': 'Mountaineers',\n",
    " 'Arizona': 'Wildcats',\n",
    " 'Arizona State': 'Sun Devils', #<-- Dr A's and Dr C's alma mater\n",
    " 'Arkansas': 'Razorbacks',\n",
    " 'Arkansas State': 'Red Wolves',\n",
    " 'Army': 'Black Knights',\n",
    " 'Auburn': 'Tigers',\n",
    " 'Ball State': 'Cardinals',\n",
    " 'Baylor': 'Bears',\n",
    " 'Boise State': 'Broncos',\n",
    "  ...\n",
    " 'Western Michigan': 'Broncos',\n",
    " 'Wisconsin': 'Badgers',\n",
    " 'Wyoming': 'Cowboys'}\n",
    "```\n",
    "\n",
    "For example, the team from `Arizona State`, Dr. Crider's and Dr. Alvarez's alma mater, is also referred to as the `Sun Devils`. \n",
    "\n",
    "![](https://media.giphy.com/media/m9uzpnQvjFdORTzLDE/giphy.gif)\n",
    "\n",
    "\n",
    "### Enrollments\n",
    "\n",
    "The `enrollment` dictionary contains the number of students at each university.\n",
    "\n",
    "\n",
    "```python\n",
    "{'Air Force': 4181,\n",
    " 'Akron': 14516,\n",
    " 'Alabama': 38316,\n",
    " 'Appalachian State': 20641,\n",
    " 'Arizona': 49471,\n",
    " 'Arizona State': 77881,\n",
    " 'Arkansas': 29068,\n",
    " 'Arkansas State': 12863,\n",
    " 'Army': 4594,\n",
    " 'Auburn': 31526,\n",
    " 'Ball State': 19337,\n",
    " 'Baylor': 20626,\n",
    " 'Boise State': 25830,\n",
    "  ...\n",
    " 'Western Michigan': 19038,\n",
    " 'Wisconsin': 47932,\n",
    " 'Wyoming': 11479}\n",
    "```"
   ]
  },
  {
   "cell_type": "markdown",
   "id": "3FDhr93N_1Id",
   "metadata": {
    "id": "3FDhr93N_1Id"
   },
   "source": [
    "Let's preview the data for one university, `Purdue`, by passing this *key* to each one of the dictionaries and printing the associated *value*. Run the cell below."
   ]
  },
  {
   "cell_type": "code",
   "execution_count": 2,
   "id": "kDQv-Nve4vDv",
   "metadata": {
    "id": "kDQv-Nve4vDv"
   },
   "outputs": [
    {
     "name": "stdout",
     "output_type": "stream",
     "text": [
      "Boilermakers\n",
      "49639\n"
     ]
    }
   ],
   "source": [
    "# Preview the data for Purdue\n",
    "print(nickname['Purdue'])\n",
    "print(enrollment['Purdue'])"
   ]
  },
  {
   "cell_type": "markdown",
   "id": "dUR5rouA4vDv",
   "metadata": {
    "id": "dUR5rouA4vDv"
   },
   "source": [
    "The nickname for Purdue is \"Boilermakers\" and have a student population of 49,639 students. Pretty simple once we have all that information stored in a dictionary!"
   ]
  },
  {
   "cell_type": "markdown",
   "id": "d2fCWiXo4vDw",
   "metadata": {
    "id": "d2fCWiXo4vDw"
   },
   "source": [
    "## Tasks\n",
    "\n",
    "### Task 1: How Many Teams?\n",
    "\n",
    "![](https://media.giphy.com/media/B3HJTgnQZrMv0VpxnN/giphy-downsized-large.gif)\n",
    "\n",
    "Let's start by getting an overview of the size of our data. How many universities are there in the dataset? Some context: there are a lot of universities in the United States with American Football teams, but the  data you will be working with consists of universities that play in the highest tier of college football, the Division I Football Bowl Subdivision (FBS). How many teams are there in the FBS? Store the answer in a variable named `n_teams`. \n",
    "\n",
    "<span style='background :#FFF59E' > <b>HINT</b>: Every dictionary provided contains <b>all</b> of the universities that compete in the NCAA Division I </span>"
   ]
  },
  {
   "cell_type": "code",
   "execution_count": 3,
   "id": "F7v-FXY-4vDw",
   "metadata": {
    "id": "F7v-FXY-4vDw"
   },
   "outputs": [
    {
     "name": "stdout",
     "output_type": "stream",
     "text": [
      "There are 131 teams in the FBS.\n"
     ]
    }
   ],
   "source": [
    "# How many FBS teams are there? \n",
    "# hint: what function tells you how many \"things\" a dictionary/list contains?\n",
    "\n",
    "# complete the code for the n_teams variable \n",
    "n_teams = len(nickname)\n",
    "\n",
    "# do not modify the line below\n",
    "print(f'There are {n_teams} teams in the FBS.')"
   ]
  },
  {
   "cell_type": "markdown",
   "id": "Hukn1_qM6raU",
   "metadata": {
    "id": "Hukn1_qM6raU"
   },
   "source": [
    "<span style='background :#DDD5F3' > If done correctly, your code should output:</span>\n",
    "\n",
    "<code>There are 131 teams in the FBS.</code>"
   ]
  },
  {
   "cell_type": "markdown",
   "id": "mrEw8aZT4vDx",
   "metadata": {
    "id": "mrEw8aZT4vDx"
   },
   "source": [
    "### Task 2: Team Nicknames\n",
    "\n",
    "Which teams have the nickname \"Tigers\"? Use a loop to iterate through each team in the `nickname` dictionary. For each team, use a conditional to check `if` their nickname is \"Tigers\". If so, append the university name to a Python list named `matches`. \n",
    "\n",
    "Remember that to access the school's nickname, you have to pass the name of the school as the key!"
   ]
  },
  {
   "cell_type": "code",
   "execution_count": 4,
   "id": "8X7AHLtQ4vDy",
   "metadata": {
    "id": "8X7AHLtQ4vDy"
   },
   "outputs": [
    {
     "name": "stdout",
     "output_type": "stream",
     "text": [
      "['Auburn', 'Clemson', 'LSU', 'Memphis', 'Missouri']\n"
     ]
    }
   ],
   "source": [
    "# set up an empty list for matching universities\n",
    "matches = []\n",
    "\n",
    "# loop over universities and append to list of matches when a match is found\n",
    "for university in nickname:\n",
    "    if nickname[university] == 'Tigers':\n",
    "        matches.append(university)\n",
    "\n",
    "\n",
    "# print the required output\n",
    "print(matches)"
   ]
  },
  {
   "cell_type": "markdown",
   "id": "YbyZZWGg7gr7",
   "metadata": {
    "id": "YbyZZWGg7gr7"
   },
   "source": [
    "<span style='background :#DDD5F3'>If done correctly, your output should be a list containing <b>5</b> universities.</span>"
   ]
  },
  {
   "cell_type": "markdown",
   "id": "jRAva3eW4vDz",
   "metadata": {
    "id": "jRAva3eW4vDz"
   },
   "source": [
    "### Task 3: University Enrollment\n",
    "\n",
    "Let's explore how large these universities are, in terms of their enrollment. \n",
    "\n",
    "Use a loop to iterate through each school in the `enrollment` dictionary.\n",
    "*   If a university's enrollment is smaller than 10,000, increase the counting variable named `small_unis` by `1`.\n",
    "*   If a university's enrollment is larger than 50,000, increase the counting variable named `large_unis` by 1.\n",
    "\n",
    "Are there more FBS universities with enrollments smaller than 10,000, or with enrollments larger than 50,000?\n",
    "\n",
    "The code provided at the end will print your results to the screen. But you'll still need to answer this question using a markdown cell!"
   ]
  },
  {
   "cell_type": "code",
   "execution_count": 5,
   "id": "o6jJW94q4vDz",
   "metadata": {
    "id": "o6jJW94q4vDz"
   },
   "outputs": [
    {
     "name": "stdout",
     "output_type": "stream",
     "text": [
      "Smaller universities (< 10k enrolled): 7\n",
      "Largest universities (> 50k enrolled): 14\n"
     ]
    }
   ],
   "source": [
    "# set up lists for matching universities\n",
    "small_unis = 0\n",
    "large_unis = 0\n",
    "\n",
    "# loop over all universities\n",
    "for school in enrollment:\n",
    "    num_students = enrollment[school]\n",
    "    \n",
    "    if num_students < 10000:\n",
    "        small_unis += 1\n",
    "    elif num_students > 50000:\n",
    "        large_unis += 1\n",
    "\n",
    "# print the required outputs\n",
    "print(f'Smaller universities (< 10k enrolled): {small_unis}')\n",
    "print(f'Largest universities (> 50k enrolled): {large_unis}')"
   ]
  },
  {
   "cell_type": "markdown",
   "id": "zWL3uLXK8dab",
   "metadata": {
    "id": "zWL3uLXK8dab"
   },
   "source": [
    "There are more FBS with enrollments larger than 50,000."
   ]
  },
  {
   "cell_type": "markdown",
   "id": "NeDx_qps4vDz",
   "metadata": {
    "id": "NeDx_qps4vDz"
   },
   "source": [
    "*(Double-click this cell to edit this text, and replace it with a sentence answering the question of Task 3!)*"
   ]
  },
  {
   "cell_type": "code",
   "execution_count": 6,
   "id": "BhEoyPjk4vD1",
   "metadata": {
    "id": "BhEoyPjk4vD1"
   },
   "outputs": [],
   "source": [
    "# run this cell to import more data!\n",
    "from ncaa_fbs import fbs_teams"
   ]
  },
  {
   "cell_type": "markdown",
   "id": "d_8-80Ho4vD1",
   "metadata": {
    "id": "d_8-80Ho4vD1"
   },
   "source": [
    "### Task 4: Conference Enrollments\n",
    "\n",
    "![](https://media.giphy.com/media/SWXQWWp4otbjpbJpYv/giphy.gif)\n",
    "\n",
    "The dictionary variable used in this task is called `fbs_teams`. In it, each university is now associated with a list of values, instead of one dictionary for each value.\n",
    "\n",
    "For each university, the associated list contains items in this order:\n",
    "* Index 0: Nickname\n",
    "* Index 1: City\n",
    "* Index 2: State\n",
    "* Index 3: Enrollment\n",
    "* Index 4: Conference\n",
    "\n",
    "We have provided you a print statement at the end for all three statistics (number of universities, total enrollment, average enrollment) to show in the cell output.\n",
    "\n",
    "Here is a snippet of `fbs_teams` for a few entries in the dictionary:\n",
    "\n",
    "```python\n",
    "{ ...\n",
    " 'Arizona State': ['Sun Devils', 'Tempe', 'Arizona', 77881, 'Pac-12'],\n",
    " 'Arkansas': ['Razorbacks', 'Fayetteville', 'Arkansas', 29068, 'SEC'],\n",
    " 'Arkansas State': ['Red Wolves', 'Jonesboro', 'Arkansas', 12863, 'Sun Belt'],\n",
    "  ...\n",
    "}\n",
    "```\n"
   ]
  },
  {
   "cell_type": "markdown",
   "id": "ccDrjlXBwZOU",
   "metadata": {
    "id": "ccDrjlXBwZOU"
   },
   "source": [
    "Just like before, let's preview the data for one university, `Arizona State`, by passing this *key* to the `fbs_teams` dictionary, and printing the associated *value*. Run the cell below."
   ]
  },
  {
   "cell_type": "code",
   "execution_count": 7,
   "id": "mfQl89JU4vD1",
   "metadata": {
    "id": "mfQl89JU4vD1"
   },
   "outputs": [
    {
     "name": "stdout",
     "output_type": "stream",
     "text": [
      "['Sun Devils', 'Tempe', 'Arizona', 77881, 'Pac-12']\n",
      "Sun Devils\n",
      "Tempe\n",
      "Arizona\n",
      "77881\n",
      "Pac-12\n"
     ]
    }
   ],
   "source": [
    "# Run the cell, do not modify the code.\n",
    "\n",
    "# preview the data for Arizona State\n",
    "\n",
    "# returns the whole list of values\n",
    "print(fbs_teams['Arizona State'])\n",
    "\n",
    "# nickname\n",
    "print(fbs_teams['Arizona State'][0])\n",
    "\n",
    "# City\n",
    "print(fbs_teams['Arizona State'][1])\n",
    "\n",
    "# State\n",
    "print(fbs_teams['Arizona State'][2])\n",
    "\n",
    "# Enrollment\n",
    "print(fbs_teams['Arizona State'][3])\n",
    "\n",
    "# Conference\n",
    "print(fbs_teams['Arizona State'][4])"
   ]
  },
  {
   "cell_type": "markdown",
   "id": "9JXwUcpqwzUK",
   "metadata": {
    "id": "9JXwUcpqwzUK"
   },
   "source": [
    "In the code above we can see that Arizona State are called the **Sun Devils**, are located in the city of **Tempe** in the state of **Arizona**. They have a total student population of **77,881**, and play in the **Pac-12** conference! "
   ]
  },
  {
   "cell_type": "markdown",
   "id": "QkYAT7UhwuXh",
   "metadata": {
    "id": "QkYAT7UhwuXh"
   },
   "source": [
    "We'll use this dictionary to answer the following questions: \n",
    "1. **Does the Big 12 conference actually have twelve schools?**  \n",
    "2. **What is the total enrollment across these Big 12 universities?**\n",
    "3. **What is the average enrollment across these Big 12 universities?**\n"
   ]
  },
  {
   "cell_type": "markdown",
   "id": "_o2xSrptEo9i",
   "metadata": {
    "id": "_o2xSrptEo9i"
   },
   "source": [
    "One approach to answering these questions is to store the enrollment for each school in a `list`, called `students`, defined below. Then the provided print statement will use different functions to calculate the values needed. \n",
    "\n",
    "\n",
    "Although you won't need to code these results at the end of the following cell - it is already done for you - but it's important to remember the following:\n",
    "- Each entry in `students` will correspond to a single university. \n",
    "- It's `len`gth will be the number of universities in the Big 12. \n",
    "- The `sum` will be the total enrolllment in the Big 12 conference. \n",
    "- The average enrollment can be calculated by combining the `len` and `sum` functions.\n",
    "\n",
    "Use the code template below to complete Task 4."
   ]
  },
  {
   "cell_type": "code",
   "execution_count": 28,
   "id": "PmgiPVE64vD1",
   "metadata": {
    "id": "PmgiPVE64vD1"
   },
   "outputs": [
    {
     "name": "stdout",
     "output_type": "stream",
     "text": [
      "Number of Big 12 schools: 10\n",
      "Total students: 280990\n",
      "Average enrollment: 28099.0\n"
     ]
    }
   ],
   "source": [
    "# approach 1: using a list followed by summary functions\n",
    "students = []\n",
    "\n",
    "# loop over universities, and append enrollments to the list\n",
    "for team in fbs_teams:\n",
    "    if fbs_teams[team][4] == 'Big 12':\n",
    "        enrollment = fbs_teams[team][3]\n",
    "        students.append(enrollment)\n",
    "    # ---------- YOUR CODE STARTS HERE ---------- #\n",
    "\n",
    "\n",
    "\n",
    "    \n",
    "    \n",
    "\n",
    "    \n",
    "    \n",
    "    \n",
    "    # ---------- YOUR CODE ENDS HERE ------------ #\n",
    "\n",
    "# print the results\n",
    "print(f'Number of Big 12 schools: {len(students)}')\n",
    "print(f'Total students: {sum(students)}')\n",
    "print(f'Average enrollment: {sum(students) / len(students)}')"
   ]
  },
  {
   "cell_type": "markdown",
   "id": "cc5cd3aa-ffbf-4829-8136-f7f003cf90e9",
   "metadata": {
    "id": "cc5cd3aa-ffbf-4829-8136-f7f003cf90e9"
   },
   "source": [
    "<span style='background :#DDD5F3'>If done correctly, you will have <b>10</b> schools in the Big 12 conference. </span>"
   ]
  },
  {
   "cell_type": "markdown",
   "id": "4x7zkLt8yqPz",
   "metadata": {
    "id": "4x7zkLt8yqPz"
   },
   "source": [
    "A different approach is to use **accumulator** variables. An accumulator variable is a variable that is modified in each iteration of the loop. For example, if you are storing the number of students for each university, outside of the loop you will define `n_students = 0` but within the loop you will increment the value of `n_students` for every university that matches your criteria. Incrementing and assigning back to the same variable can be done with the `+=` operator.\n",
    "\n",
    "In the code below, you have two accumulator variables, `n_students` and `n_universities` both set to zero intially. For each item in your loop that matches the criteria you will update the `n_students` variable based on the enrollment at that university and increment the `n_universities` by `1`.\n",
    "\n",
    "The print statement provided at the end will show the results in the cell output."
   ]
  },
  {
   "cell_type": "code",
   "execution_count": 32,
   "id": "TOite24b4vD2",
   "metadata": {
    "id": "TOite24b4vD2"
   },
   "outputs": [
    {
     "name": "stdout",
     "output_type": "stream",
     "text": [
      "Number of Big 12 schools: 10\n",
      "Total students: 280990\n",
      "Average enrollment: 28099.0\n"
     ]
    }
   ],
   "source": [
    "# approach 2: using two numeric variables to accumulate the results\n",
    "n_students = 0\n",
    "n_universities = 0\n",
    "\n",
    "# loop over universities, and accumulate values\n",
    "for team in fbs_teams:\n",
    "     if fbs_teams[team][4] == 'Big 12':\n",
    "        n_students += fbs_teams[team][3]\n",
    "        n_universities += 1\n",
    "\n",
    "    \n",
    "# print the results\n",
    "print(f'Number of Big 12 schools: {n_universities}')\n",
    "print(f'Total students: {n_students}')\n",
    "print(f'Average enrollment: {n_students / n_universities}')"
   ]
  },
  {
   "cell_type": "markdown",
   "id": "gsSnZ_m3_Ryh",
   "metadata": {
    "id": "gsSnZ_m3_Ryh"
   },
   "source": [
    "Way to go! Time to do a touchdown dance!\n",
    "\n",
    "![](https://media.giphy.com/media/NdrO9USb8683H1sVuo/giphy.gif)"
   ]
  },
  {
   "cell_type": "markdown",
   "id": "4YFQHYb74vD2",
   "metadata": {
    "id": "4YFQHYb74vD2"
   },
   "source": [
    "## Level Up\n",
    "\n",
    "Yet another way of storing the Division I universities information is by using a dictionary with *dictionaries* for values. In the task above you had a dictionary with a *list* for values. To get to the desired value, you would use the appropriate index. \n",
    "\n",
    "In the case of a dictionary with dictionary values, you would instead use the *key* associated with the desired value.\n",
    "\n",
    "A snippet of the `fbs_teams_dict` would look like:\n",
    "\n",
    "```python\n",
    "{...\n",
    " 'Arizona': {'nickname': 'Wildcats',\n",
    "             'city': 'Tucson',\n",
    "             'state': 'Arizona',\n",
    "             'enrollment': 49471,\n",
    "             'conference': 'Pac-12'},\n",
    " 'Arizona State': {'nickname': 'Sun Devils',\n",
    "                   'city': 'Tempe',\n",
    "                   'state': 'Arizona',\n",
    "                   'enrollment': 77881,\n",
    "                   'conference': 'Pac-12'},\n",
    " 'Arkansas': {'nickname': 'Razorbacks',\n",
    "              'city': 'Fayetteville',\n",
    "              'state': 'Arkansas',\n",
    "              'enrollment': 29068,\n",
    "              'conference': 'SEC'},\n",
    "...\n",
    "```\n",
    "\n",
    "\n",
    "\n",
    "Compare this to the `fbs_teams` structure you used for Task 4. If we want to get the enrollment for Purdue University, we still have 'Purdue' as the outer dictionary key, but now we specify the 'enrollment' feature for the inner dictionary key.\n",
    "\n",
    "\n"
   ]
  },
  {
   "cell_type": "code",
   "execution_count": 33,
   "id": "8_czoCOi4vD2",
   "metadata": {
    "id": "8_czoCOi4vD2"
   },
   "outputs": [],
   "source": [
    "# import data\n",
    "from ncaa_fbs import fbs_teams_dict"
   ]
  },
  {
   "cell_type": "code",
   "execution_count": 34,
   "id": "9gz7aOEs4vD3",
   "metadata": {
    "id": "9gz7aOEs4vD3"
   },
   "outputs": [
    {
     "data": {
      "text/plain": [
       "{'nickname': 'Boilermakers',\n",
       " 'city': 'West Lafayette',\n",
       " 'state': 'Indiana',\n",
       " 'enrollment': 49639,\n",
       " 'conference': 'Big Ten'}"
      ]
     },
     "execution_count": 34,
     "metadata": {},
     "output_type": "execute_result"
    }
   ],
   "source": [
    "# get all the values for Purdue (output is a dictionary!)\n",
    "fbs_teams_dict['Purdue']"
   ]
  },
  {
   "cell_type": "markdown",
   "id": "lUZJ1Eel4vD3",
   "metadata": {
    "id": "lUZJ1Eel4vD3"
   },
   "source": [
    "Compare this to the `fbs_teams` structure you used for Task 4. If we want to get the enrollment for Purdue University, we still have 'Purdue' as the outer dictionary key, but now we specify the `'enrollment'` feature for the inner dictionary key:"
   ]
  },
  {
   "cell_type": "code",
   "execution_count": 35,
   "id": "psNVmbsm4vD3",
   "metadata": {
    "id": "psNVmbsm4vD3"
   },
   "outputs": [
    {
     "data": {
      "text/plain": [
       "49639"
      ]
     },
     "execution_count": 35,
     "metadata": {},
     "output_type": "execute_result"
    }
   ],
   "source": [
    "# use the appropriate key to get the enrollment for Purdue University.\n",
    "# recall that before we used the appropriate *index* to get the enrollment.\n",
    "fbs_teams_dict['Purdue']['enrollment']"
   ]
  },
  {
   "cell_type": "markdown",
   "id": "kOFWjZHk4vD3",
   "metadata": {
    "id": "kOFWjZHk4vD3"
   },
   "source": [
    "<span style='background :#FFF59E'>If you're feeling up for the additional practice, try replicating the tasks in this Milestone assignment but only using the `fbs_teams_dict` dictionary!</span>"
   ]
  },
  {
   "cell_type": "code",
   "execution_count": null,
   "id": "xS5zmHps4vD3",
   "metadata": {
    "id": "xS5zmHps4vD3"
   },
   "outputs": [],
   "source": []
  }
 ],
 "metadata": {
  "colab": {
   "provenance": []
  },
  "kernelspec": {
   "display_name": "Python 3 (ipykernel)",
   "language": "python",
   "name": "python3"
  },
  "language_info": {
   "codemirror_mode": {
    "name": "ipython",
    "version": 3
   },
   "file_extension": ".py",
   "mimetype": "text/x-python",
   "name": "python",
   "nbconvert_exporter": "python",
   "pygments_lexer": "ipython3",
   "version": "3.10.6"
  }
 },
 "nbformat": 4,
 "nbformat_minor": 5
}
